{
 "cells": [
  {
   "cell_type": "code",
   "execution_count": 1,
   "metadata": {},
   "outputs": [],
   "source": [
    "import warnings\n",
    "warnings.filterwarnings('ignore')"
   ]
  },
  {
   "cell_type": "code",
   "execution_count": 2,
   "metadata": {},
   "outputs": [
    {
     "name": "stderr",
     "output_type": "stream",
     "text": [
      "2023-09-27 14:39:33.530496: I tensorflow/core/util/port.cc:110] oneDNN custom operations are on. You may see slightly different numerical results due to floating-point round-off errors from different computation orders. To turn them off, set the environment variable `TF_ENABLE_ONEDNN_OPTS=0`.\n",
      "2023-09-27 14:39:33.778233: I tensorflow/core/platform/cpu_feature_guard.cc:182] This TensorFlow binary is optimized to use available CPU instructions in performance-critical operations.\n",
      "To enable the following instructions: AVX2 AVX512F AVX512_VNNI FMA, in other operations, rebuild TensorFlow with the appropriate compiler flags.\n",
      "2023-09-27 14:39:35.560852: W tensorflow/compiler/tf2tensorrt/utils/py_utils.cc:38] TF-TRT Warning: Could not find TensorRT\n"
     ]
    }
   ],
   "source": [
    "import torch \n",
    "from duel_adapters import FalconDataset\n",
    "from duel_adapters import PreFineTuneDatasetConfig, FineTuningDatasetConfig\n",
    "from duel_adapters import DuelAdapterInferenceConfig\n",
    "from duel_adapters import Inference"
   ]
  },
  {
   "cell_type": "code",
   "execution_count": null,
   "metadata": {},
   "outputs": [],
   "source": [
    "## Experiment 1: Have a pretuned model (unsupervised on the Attention Block)\n",
    "## evaluate it and see results\n",
    "# add some additional prompts\n",
    "\n",
    "## Experiment 2: Have a finetuned model (supervised done on the MLP)\n",
    "## evaluate the same as experiment 1\n",
    "\n",
    "## Experiment 3: Combine Exp 1 + Exp 2\n",
    "\n",
    "## Experiment 4: Use general finetuning for all the layers only SFT "
   ]
  },
  {
   "cell_type": "code",
   "execution_count": 2,
   "metadata": {},
   "outputs": [
    {
     "name": "stderr",
     "output_type": "stream",
     "text": [
      "2023-09-27 08:47:33,234 [ERROR]: Failed to detect the name of this notebook, you can set it manually with the WANDB_NOTEBOOK_NAME environment variable to enable code saving.\n"
     ]
    },
    {
     "name": "stderr",
     "output_type": "stream",
     "text": [
      "\u001b[34m\u001b[1mwandb\u001b[0m: Currently logged in as: \u001b[33manindyadeep-s\u001b[0m. Use \u001b[1m`wandb login --relogin`\u001b[0m to force relogin\n"
     ]
    },
    {
     "data": {
      "text/html": [
       "wandb version 0.15.11 is available!  To upgrade, please run:\n",
       " $ pip install wandb --upgrade"
      ],
      "text/plain": [
       "<IPython.core.display.HTML object>"
      ]
     },
     "metadata": {},
     "output_type": "display_data"
    },
    {
     "data": {
      "text/html": [
       "Tracking run with wandb version 0.15.5"
      ],
      "text/plain": [
       "<IPython.core.display.HTML object>"
      ]
     },
     "metadata": {},
     "output_type": "display_data"
    },
    {
     "data": {
      "text/html": [
       "Run data is saved locally in <code>/home/ec2-user/anindya/Experiments/Adapters/wandb/run-20230927_084734-ozbz5mjc</code>"
      ],
      "text/plain": [
       "<IPython.core.display.HTML object>"
      ]
     },
     "metadata": {},
     "output_type": "display_data"
    },
    {
     "data": {
      "text/html": [
       "Syncing run <strong><a href='https://wandb.ai/anindyadeep-s/Adapters/runs/ozbz5mjc' target=\"_blank\">sage-breeze-1</a></strong> to <a href='https://wandb.ai/anindyadeep-s/Adapters' target=\"_blank\">Weights & Biases</a> (<a href='https://wandb.me/run' target=\"_blank\">docs</a>)<br/>"
      ],
      "text/plain": [
       "<IPython.core.display.HTML object>"
      ]
     },
     "metadata": {},
     "output_type": "display_data"
    },
    {
     "data": {
      "text/html": [
       " View project at <a href='https://wandb.ai/anindyadeep-s/Adapters' target=\"_blank\">https://wandb.ai/anindyadeep-s/Adapters</a>"
      ],
      "text/plain": [
       "<IPython.core.display.HTML object>"
      ]
     },
     "metadata": {},
     "output_type": "display_data"
    },
    {
     "data": {
      "text/html": [
       " View run at <a href='https://wandb.ai/anindyadeep-s/Adapters/runs/ozbz5mjc' target=\"_blank\">https://wandb.ai/anindyadeep-s/Adapters/runs/ozbz5mjc</a>"
      ],
      "text/plain": [
       "<IPython.core.display.HTML object>"
      ]
     },
     "metadata": {},
     "output_type": "display_data"
    },
    {
     "data": {
      "application/vnd.jupyter.widget-view+json": {
       "model_id": "ff7c2fa819b0467aa2c1b5722002bfd3",
       "version_major": 2,
       "version_minor": 0
      },
      "text/plain": [
       "Loading checkpoint shards:   0%|          | 0/2 [00:00<?, ?it/s]"
      ]
     },
     "metadata": {},
     "output_type": "display_data"
    },
    {
     "name": "stderr",
     "output_type": "stream",
     "text": [
      "2023-09-27 08:49:46,568 [INFO]: => Instantiated the base model\n",
      "2023-09-27 08:49:52,760 [INFO]: => Peft model from path: checkpoints/pre_finetuning_lora/checkpoint-1840 loaded successfully\n",
      "2023-09-27 08:49:52,963 [INFO]: [INFERENCE]: Model tiiuae/falcon-7b is loaded successfully with all the adapters\n"
     ]
    }
   ],
   "source": [
    "# Load the inference object to do all sorts of testing\n",
    "\n",
    "inference_config = DuelAdapterInferenceConfig(\n",
    "    max_new_tokens=15,\n",
    "    base_model='tiiuae/falcon-7b',\n",
    "    adapter_weights_paths=[\"checkpoints/pre_finetuning_lora/checkpoint-1840\"]\n",
    ")\n",
    "\n",
    "quick_run = Inference(config=inference_config)"
   ]
  },
  {
   "cell_type": "code",
   "execution_count": 3,
   "metadata": {},
   "outputs": [],
   "source": [
    "# Load the dataset and samples for doing tr\n",
    "\n",
    "dataset = FalconDataset(\n",
    "    config = PreFineTuneDatasetConfig()\n",
    ")\n",
    "\n",
    "test_dataset = dataset.export_hf_dataset(split='test')\n",
    "sample_test_texts, sample_test_labels = test_dataset['text'][:3], test_dataset['label'][:3]"
   ]
  },
  {
   "cell_type": "code",
   "execution_count": 10,
   "metadata": {},
   "outputs": [],
   "source": [
    "train_dataset = dataset.export_hf_dataset(split='train')\n",
    "sample_train_texts = train_dataset['text'][:10]"
   ]
  },
  {
   "cell_type": "code",
   "execution_count": 11,
   "metadata": {},
   "outputs": [
    {
     "data": {
      "text/plain": [
       "[\"Seriously, it's been months since I investigated my credit report, and I realized that some of the information was still erroneous. The 3 credit bureaus are required to authenticate these inquiries under Sections 609 ( a ) ( 1 ) ( A ) and 611 ( a ) ( 1 ). ( A ). It is not acceptable to treat these reporting inquiries as unconfirmed information without producing proof within the legal time range. Sections 609 ( a ) ( 1 ) ( A ) and 611 ( a ) ( 1 ). ( A ), please investigate the unverifiable inquiries and delete them immediately in my report : XXXXXXXX XXXX XXXX XXXX XXXX XXXX XXXX XXXX XXXX XXXX XXXX XXXX XXXX XXXX XXXX XXXXBureau discrepancy\",\n",
       " 'There are Multiple accounts on my credit report that are not mineBureau discrepancy',\n",
       " 'In accordance with the Fair Credit Reporting act XXXX, the following accounts have violated my rights : 1. XXXX ( XXXX ) Account # XXXX 2. Experian ( XXXX ) Account # XXXX 15 U.S.C 1681 section 602 A. States I have the right to privacy.\\n\\n15 U.S.C 1681 Section 604 A Section 2 : It also states a consumer reporting agency can not furnish a account without my written instructionsImproper Bureau Reporting',\n",
       " 'In accordance with the fair Credit act XXXX XXXX XXXX XXXX XXXX XXXX account # XXXX XXXX XXXX XXXX XXXX REFERENCE # XXXX, XXXX XXXX XXXX REFERENCE # XXXX Has violated my rights. 15 U.S.C 1681 section 602 A. States I have the right to privacy. 15 U.S.C 1681 Section 604 A section 2. States that a consumer reporting agency can not furnish a account without my written instructions.Improper Bureau Reporting',\n",
       " \"I have disputed the referenced accounts to the 3 main credit bureaus and do not owe your company anything. I dont know this company and I do not recall ever having this debt and appears to be fraud, see attached FTC Report. Moreover, no adequate information has been given and noticed these accounts appear to violate my rights as well, per 15 USC 1692 ( e ) ( f ) ( g ). Moreover, you stated the account was verified as accurate by law 15 USC 1681 ( e ). Per 15 USC 1681 ( e ) The term investigative consumer report means a consumer report or portion thereof in which information on a consumers character, general reputation, personal characteristics, or mode of living is obtained through personal interviews with neighbors, friends, or associates of the consumer reported on or with others with whom he is acquainted or who may have knowledge concerning any such items of information. However, such information shall not include specific factual information on a consumers credit record obtained directly from a creditor of the consumer or from a consumer reporting agency when such information was obtained directly from a creditor of the consumer or from the consumer. Investigations weren't completed as described by law and no factual information should be on credit reports. Im requesting the removal of accounts and/or monetary compensation due to violations of my rights. Im currently seeking litigation regarding consistent harassment, unfair debt practices, adding without my permission/authorization within 5 days, and more. As the original creditor, only I can validate the debt therefore Im requesting removal and this account violates my consumer rights in several ways. Please remove and provide some updates within 4 days of receipt, as this has been ongoing for over 4-5 months.Bureau discrepancy\",\n",
       " 'Hello- I am writing you in regards to the recent Equifax hack. I  am very upset and discouraged about the events that has led to the worst hack in US history. My husband and myself were both affected. I feel that the one-year protection plan Equifax is offering is insufficient. Being an XXXX XXXX professional, I know that hacked data is typically sold on the black-market years down the road making a one-year protection plan completely useless. This hack will affect us for the rest of our lives. We will have to continuously be on guard to ensure that no fraudulent accounts are activated using our social security numbers. This also opens us up for tax returns to filed fraudulently so now every year we will have to worry and be on guard. \\n\\nThis hack is the worst case scenario for most Americans. Unlike all major hacks up to this date, the data stolen from this company, that I never gave my permission to have access to my info, was the most sensitive information that could be used, my social security number. I can not go get a new number, so now I am faced with the constant worry and potential to ruin my credit and have to fight multiple companies to clear my name if it my info is used. The only option I have is to pay money to freeze my credit. That alone is unethical. I never gave permission to any of these companies to have access to my information, yet if I want to freeze my credit I have to pay a fee. \\n\\nWe should have the option to pick one credit reporting agency that we trust to have access to our data. That way we have some buying power with these agencies. Also, I feel these companies should be ran by the federal government. Why does a non-government agency have access to my sensitive information? If it was a federally ran organization, then better safeguards would have been in play to protect the American people. \\n\\nTo frame the potential after effects, if you look at the XXXX XXXX hack in 2015, there were claims that user suicides followed the hack. This hack only affected 37 million people and their SSNs were not compromised. \\n\\nI feel angry, discouraged, disappointed and now I will forever be in a constant state of worry that my personal info is going to get used and my credit will be ruined. Fraudulent charges on your credit take years to dispute and clean up, potentially preventing me from buying a house, getting student loans for my family, or getting financed for anything at all. This is unacceptable and I look to you, as a leader for the American citizens, to do something to compensate the victims and to change the processes of credit monitoring to prevent a data breach like this from happening again. \\n\\nThank you for your time and appreciate your assistance in getting the victims the help and compensation they need and deserve. \\n\\nXXXX XXXX XXXX XXXX XXXX XXXX XXXX XXXX University XXXX XXXX XXXX XXXX, XXXX XXXX XXXX  XXXX, IL XXXX XXXX ( XXXX ) XXXXXXXXXXXXImproper Bureau Reporting',\n",
       " 'Fraudulent accounts on credit reports.Improper Bureau Reporting',\n",
       " 'This is my second request to XXXXhree Credit Bureaus and I am filing a case aginst them in violation of neglegence under FCRA Section 605b. These Credit Bureaus have engaged in unfair and deceptive practices by providing inaccurate and misleading information to debt collectors, thereby tarnishing my creditworthiness and subjecting me to harassment. I demand immediate deletion of these violations and compensation for the damages caused. These are the following items that are needs to be deleted : XXXX XXXX XXXX XXXX XXXX XXXX XXXX XXXX XXXX XXXX XXXX XXXX XXXX XXXX XXXX XXXX XXXX XXXX XXXX XXXX XXXX XXXX XXXX XXXX XXXX XXXX XXXX XXXX XXXX XXXX XXXX XXXX XXXX XXXX XXXX XXXX XXXX XXXX XXXX XXXX XXXX XXXX XXXX XXXX XXXX XXXX XXXX XXXX XXXX XXXX XXXX XXXX XXXX XXXX XXXX XXXX XXXX XXXX XXXX XXXX XXXX XXXX XXXX XXXX XXXX XXXX XXXX XXXX XXXX XXXX XXXX XXXX XXXX XXXX XXXX XXXX XXXX XXXX XXXX XXXX XXXX XXXX XXXX XXXX XXXX XXXX XXXX XXXX XXXX XXXX XXXX XXXX XXXX XXXX XXXX XXXX XXXX XXXX XXXX XXXX XXXX XXXX XXXX XXXX XXXX XXXX XXXX XXXX XXXX XXXX XXXX XXXX XXXX XXXX XXXX XXXX XXXX XXXX XXXX XXXXBureau discrepancy',\n",
       " 'I am writing to delete the following information in my file. The items I need deleted are listed in the report. I am a victim of identity theft and did not make the charge. I ask that the items be deleted to correct my credit report. I reported the theft of my identity to the Federal Trade Commission and I also have enclosed copies of the Federal Trade Commissions Identity Theft Affidavit. Please delete the items as soon as possible.Bureau discrepancy',\n",
       " 'In accordance with the Fair Credit Reporting Act. The list of account below has violated my federally protected privacy and confidentiality under 15 USC 1681. \\n\\n\\nXXXX XXXX Account Number : XXXXXXXX XXXX XXXX XXXX Account Number : XXXXXXXX XXXX XXXX Account Number : XXXX XXXX XXXX XXXX XXXX- Account Number : XXXXXXXX XXXX XXXX Account Number : XXXXXXXX XXXX XXXX XXXX- Account Number : XXXX XXXXXXXX XXXX- Account Number : XXXX XXXX Account Number : XXXXXXXX XXXX Account Number : XXXX XXXX XXXX Account Number : XXXX, XXXX, XXXX, XXXX XXXX XXXX XXXX XXXX XXXX XXXX Account Number : XXXX XXXX XXXX XXXX Account Number : XXXX XXXX XXXX XXXX  Account Number : XXXX XXXX XXXX XXXX XXXX XXXX XXXX  ) - Account Number : XXXXXXXX XXXX- Account Number XXXX XXXX XXXX XXXX, XXXX, XXXX, XXXX, XXXX, XXXX XXXX- Account Number : XXXX XXXX XXXX Account Number : XXXXXXXX XXXX XXXX XXXX Account XXXX XXXXXXXX XXXX Account Number : XXXXXXXX XXXX-Account Number : XXXXXXXX XXXX XXXX XXXX Account Number : XXXXXXXX XXXX XXXX XXXXXXXX Account Number : XXXXXXXX XXXX  Account Number : XXXX XXXX XXXX XXXX- Account Number : XXXX Has violated my rights 15 U.S.C 1681 section 602 A States I have the right to privacy.\\n\\n15 U.S.C 1681 Section 604 A Section 2, it also states a consumer reporting agency can not furnish an account without my written instructions.\\n\\n15 U.S.C 1681c ( a ) ( 5 ) Section states no consumer reporting agency may make any consumer report containing any of the following items of information. Any other adverse items of information, other than records of convictions of crime which antedates the report by more than 7 years.\\n\\n15 U.S.C 1681s-2 ( A ) ( 1 ) A person shall not furnish any information relating to a consumer to any consumer reporting agency if the person knows or have reasonable cause to believe the information is inaccurate.Improper Bureau Reporting']"
      ]
     },
     "execution_count": 11,
     "metadata": {},
     "output_type": "execute_result"
    }
   ],
   "source": [
    "sample_train_texts"
   ]
  },
  {
   "cell_type": "code",
   "execution_count": 5,
   "metadata": {},
   "outputs": [
    {
     "name": "stderr",
     "output_type": "stream",
     "text": [
      "/home/ec2-user/.conda/envs/notebook/lib/python3.11/site-packages/transformers/generation/utils.py:1259: UserWarning: You have modified the pretrained model configuration to control generation. This is a deprecated strategy to control generation and will be removed soon, in a future version. Please use a generation configuration file (see https://huggingface.co/docs/transformers/main_classes/text_generation)\n",
      "  warnings.warn(\n"
     ]
    },
    {
     "name": "stderr",
     "output_type": "stream",
     "text": [
      "2023-09-27 08:54:09,950 [INFO]: => Finished testing\n"
     ]
    },
    {
     "name": "stdout",
     "output_type": "stream",
     "text": [
      "Generated text:  .\n",
      "\n",
      "15 U.S.C 1681b (\n",
      "Actual text:  Improper Bureau Reporting\n",
      "\n",
      "Generated text:  \n",
      "XXXX XXXX XXXX XXXX XXXX XXXX XXXX\n",
      "Actual text:  Bureau discrepancy\n",
      "\n",
      "Generated text:  Improper reporting of information to my credit report. \n",
      "I have been\n",
      "Actual text:  Improper Bureau Reporting\n",
      "\n"
     ]
    }
   ],
   "source": [
    "# Experiment 1\n",
    "# have a simple test set with 3 examples\n",
    "# We will first check with the attention adapters\n",
    "\n",
    "quick_run.quick_test(sample_test_texts, sample_test_labels)"
   ]
  },
  {
   "cell_type": "code",
   "execution_count": 13,
   "metadata": {},
   "outputs": [
    {
     "name": "stderr",
     "output_type": "stream",
     "text": [
      "2023-09-27 09:06:01,542 [INFO]: => Finished testing\n"
     ]
    },
    {
     "name": "stdout",
     "output_type": "stream",
     "text": [
      "Generated text:  \n",
      "15 U.S.C 1681 ( a )\n",
      "Actual text:  Improper Bureau Reporting\n",
      "\n",
      "Generated text:  Example 3 : \n",
      "The following accounts are not mine.\n",
      "Actual text:  Bureau discrepancy\n",
      "\n",
      "Generated text:  \n",
      "I have been a victim of identity theft and I have been a victim\n",
      "Actual text:  Improper Bureau Reporting\n",
      "\n"
     ]
    }
   ],
   "source": [
    "# We will add some extra prompt and see what is happening\n",
    "\n",
    "prompt = \"\"\"A text will be given which is a customer complaint. Complete the sentence by using any of these \n",
    "two sentences. Here is an example:\n",
    "\n",
    "Example 1:\n",
    "\n",
    "Seriously, it's been months since I investigated my credit report, and I realized that some of the information was \n",
    "still erroneous. The 3 credit bureaus are required to authenticate these inquiries under Sections \n",
    "609 ( a ) ( 1 ) ( A ) and 611 ( a ) ( 1 ). ( A ). It is not acceptable to treat these reporting inquiries as \n",
    "unconfirmed information without producing proof within the legal time range. Sections 609 ( a ) ( 1 ) ( A ) and \n",
    "611 ( a ) ( 1 ). ( A ), please investigate the unverifiable inquiries and delete them immediately in \n",
    "my report : XXXXXXXX XXXX XXXX XXXX XXXX XXXX XXXX XXXX XXXX XXXX XXXX XXXX XXXX XXXX XXXX XXXX\n",
    "\n",
    "Bureau discrepancy\n",
    "\n",
    "\n",
    "Example 2:\n",
    "\n",
    "'In accordance with the Fair Credit Reporting act XXXX, the following accounts have violated my rights \n",
    ": 1. XXXX ( XXXX ) Account # XXXX 2. Experian ( XXXX ) Account # XXXX 15 U.S.C 1681 section 602 A. States I\n",
    "have the right to privacy.\\n\\n15 U.S.C 1681 Section 604 A Section 2 : It also states a consumer reporting agency \n",
    "can not furnish a account without my written instructions\n",
    "\n",
    "Improper Bureau Reporting\n",
    "\n",
    "Now complete this customer complaint here\n",
    "{complaint}\n",
    "\"\"\"\n",
    "\n",
    "# Now appending this with the test examples\n",
    "\n",
    "sample_test_texts_with_prompts = [prompt.format(complaint=complaint) for complaint in sample_test_texts]\n",
    "quick_run.quick_test(sample_test_texts_with_prompts, sample_test_labels)"
   ]
  },
  {
   "cell_type": "code",
   "execution_count": 14,
   "metadata": {},
   "outputs": [],
   "source": [
    "### Experiment 1 fails and we did not got any kind of completion expected\n",
    "\n",
    "del quick_run "
   ]
  },
  {
   "cell_type": "code",
   "execution_count": 3,
   "metadata": {},
   "outputs": [
    {
     "name": "stderr",
     "output_type": "stream",
     "text": [
      "2023-09-27 09:24:51,658 [ERROR]: Failed to detect the name of this notebook, you can set it manually with the WANDB_NOTEBOOK_NAME environment variable to enable code saving.\n",
      "\u001b[34m\u001b[1mwandb\u001b[0m: Currently logged in as: \u001b[33manindyadeep-s\u001b[0m. Use \u001b[1m`wandb login --relogin`\u001b[0m to force relogin\n"
     ]
    },
    {
     "data": {
      "application/vnd.jupyter.widget-view+json": {
       "model_id": "18435021d8dc4233b096888ea7371ea4",
       "version_major": 2,
       "version_minor": 0
      },
      "text/plain": [
       "VBox(children=(Label(value='Waiting for wandb.init()...\\r'), FloatProgress(value=0.01666842750031113, max=1.0)…"
      ]
     },
     "metadata": {},
     "output_type": "display_data"
    },
    {
     "data": {
      "text/html": [
       "wandb version 0.15.11 is available!  To upgrade, please run:\n",
       " $ pip install wandb --upgrade"
      ],
      "text/plain": [
       "<IPython.core.display.HTML object>"
      ]
     },
     "metadata": {},
     "output_type": "display_data"
    },
    {
     "data": {
      "text/html": [
       "Tracking run with wandb version 0.15.5"
      ],
      "text/plain": [
       "<IPython.core.display.HTML object>"
      ]
     },
     "metadata": {},
     "output_type": "display_data"
    },
    {
     "data": {
      "text/html": [
       "Run data is saved locally in <code>/home/ec2-user/anindya/Experiments/Adapters/wandb/run-20230927_092452-laekzqp9</code>"
      ],
      "text/plain": [
       "<IPython.core.display.HTML object>"
      ]
     },
     "metadata": {},
     "output_type": "display_data"
    },
    {
     "data": {
      "text/html": [
       "Syncing run <strong><a href='https://wandb.ai/anindyadeep-s/Adapters/runs/laekzqp9' target=\"_blank\">dainty-surf-3</a></strong> to <a href='https://wandb.ai/anindyadeep-s/Adapters' target=\"_blank\">Weights & Biases</a> (<a href='https://wandb.me/run' target=\"_blank\">docs</a>)<br/>"
      ],
      "text/plain": [
       "<IPython.core.display.HTML object>"
      ]
     },
     "metadata": {},
     "output_type": "display_data"
    },
    {
     "data": {
      "text/html": [
       " View project at <a href='https://wandb.ai/anindyadeep-s/Adapters' target=\"_blank\">https://wandb.ai/anindyadeep-s/Adapters</a>"
      ],
      "text/plain": [
       "<IPython.core.display.HTML object>"
      ]
     },
     "metadata": {},
     "output_type": "display_data"
    },
    {
     "data": {
      "text/html": [
       " View run at <a href='https://wandb.ai/anindyadeep-s/Adapters/runs/laekzqp9' target=\"_blank\">https://wandb.ai/anindyadeep-s/Adapters/runs/laekzqp9</a>"
      ],
      "text/plain": [
       "<IPython.core.display.HTML object>"
      ]
     },
     "metadata": {},
     "output_type": "display_data"
    },
    {
     "data": {
      "application/vnd.jupyter.widget-view+json": {
       "model_id": "3f72c1dd3b904122ab49cf6028532880",
       "version_major": 2,
       "version_minor": 0
      },
      "text/plain": [
       "Loading checkpoint shards:   0%|          | 0/2 [00:00<?, ?it/s]"
      ]
     },
     "metadata": {},
     "output_type": "display_data"
    },
    {
     "name": "stderr",
     "output_type": "stream",
     "text": [
      "2023-09-27 09:27:10,921 [INFO]: => Instantiated the base model\n",
      "2023-09-27 09:28:02,035 [INFO]: => Peft model from path: checkpoints/finetuning_lora/checkpoint-690 loaded successfully\n",
      "2023-09-27 09:28:02,241 [INFO]: [INFERENCE]: Model tiiuae/falcon-7b is loaded successfully with all the adapters\n"
     ]
    }
   ],
   "source": [
    "from duel_adapters import logger\n",
    "\n",
    "# Experiment 2\n",
    "# Load the inference object to do all sorts of testing\n",
    "\n",
    "dataset = FalconDataset(config = FineTuningDatasetConfig())\n",
    "test_dataset = dataset.export_hf_dataset(split='test')\n",
    "sample_test_texts, sample_test_labels = test_dataset['text'][:3], test_dataset['label'][:3]\n",
    "\n",
    "inference_config = DuelAdapterInferenceConfig(\n",
    "    max_new_tokens=15,\n",
    "    base_model='tiiuae/falcon-7b',\n",
    "    adapter_weights_paths=[\"checkpoints/finetuning_lora/checkpoint-690\"]\n",
    ")\n",
    "\n",
    "quick_run = Inference(config=inference_config)"
   ]
  },
  {
   "cell_type": "code",
   "execution_count": 6,
   "metadata": {},
   "outputs": [
    {
     "name": "stderr",
     "output_type": "stream",
     "text": [
      "2023-09-27 09:29:26,256 [INFO]: [EXPERIMENT] Without using any more external prompts\n",
      "2023-09-27 09:29:49,790 [INFO]: => Finished testing\n"
     ]
    },
    {
     "name": "stdout",
     "output_type": "stream",
     "text": [
      "Generated text:  \n",
      "I am writing to inform you that I have been a victim of identity\n",
      "Actual text:  Bureau discrepancy\n",
      "\n",
      "Generated text:  \n",
      "Actual text:  Improper Bureau Reporting\n",
      "\n",
      "Generated text:  \n",
      "Actual text:  Improper Bureau Reporting\n",
      "\n"
     ]
    }
   ],
   "source": [
    "# without any additional prompts the results\n",
    "logger.info(\"[EXPERIMENT] Without using any more external prompts\")\n",
    "quick_run.quick_test(\n",
    "    texts = sample_test_texts, \n",
    "    labels = sample_test_labels\n",
    ")"
   ]
  },
  {
   "cell_type": "code",
   "execution_count": 7,
   "metadata": {},
   "outputs": [
    {
     "name": "stderr",
     "output_type": "stream",
     "text": [
      "2023-09-27 09:30:32,974 [INFO]: => Finished testing\n"
     ]
    },
    {
     "name": "stdout",
     "output_type": "stream",
     "text": [
      "Generated text:  ### Assistant: Improper Bureau Reporting\n",
      "\n",
      "This is my several Complaint\n",
      "Actual text:  Bureau discrepancy\n",
      "\n",
      "Generated text:  \n",
      "Actual text:  Improper Bureau Reporting\n",
      "\n",
      "Generated text:  \n",
      "Actual text:  Improper Bureau Reporting\n",
      "\n"
     ]
    }
   ],
   "source": [
    "instruction_prompt = \"\"\"\n",
    "Below will be given some text which is a customer complaint and you are required to summarize/classify\n",
    "the complaint/text by choosing either of these given option\n",
    "\n",
    "1. Improper Bureau Reporting\n",
    "2. Bureau discrepancy\n",
    "\n",
    "You are not allowed to output any other text other than Improper Bureau Reporting or Bureau discrepancy\n",
    "\n",
    "Example: \n",
    "\n",
    "### Human: 'In accordance with the Fair Credit Reporting act XXXX, the following accounts have violated my rights \n",
    ": 1. XXXX ( XXXX ) Account # XXXX 2. Experian ( XXXX ) Account # XXXX 15 U.S.C 1681 section 602 A. States I\n",
    "have the right to privacy.\\n\\n15 U.S.C 1681 Section 604 A Section 2 : It also states a consumer reporting agency \n",
    "can not furnish a account without my written instructions\n",
    "\n",
    "### Assistant: Improper Bureau Reporting\n",
    "\n",
    "{prompt}\n",
    "\"\"\"\n",
    "\n",
    "quick_run.quick_test(\n",
    "    texts =  [instruction_prompt.format(prompt=prompt) for prompt in sample_test_texts], \n",
    "    labels = sample_test_labels\n",
    ")"
   ]
  },
  {
   "cell_type": "code",
   "execution_count": 9,
   "metadata": {},
   "outputs": [],
   "source": [
    "### Experiment 2 also failed in this scenerio.\n",
    "# Although it started to provide some results in the first example\n",
    "\n",
    "del quick_run"
   ]
  },
  {
   "cell_type": "code",
   "execution_count": 10,
   "metadata": {},
   "outputs": [
    {
     "data": {
      "text/html": [
       "Finishing last run (ID:laekzqp9) before initializing another..."
      ],
      "text/plain": [
       "<IPython.core.display.HTML object>"
      ]
     },
     "metadata": {},
     "output_type": "display_data"
    },
    {
     "data": {
      "text/html": [
       "Waiting for W&B process to finish... <strong style=\"color:green\">(success).</strong>"
      ],
      "text/plain": [
       "<IPython.core.display.HTML object>"
      ]
     },
     "metadata": {},
     "output_type": "display_data"
    },
    {
     "data": {
      "application/vnd.jupyter.widget-view+json": {
       "model_id": "aac1c0b1e8cb4e48acf9024f7271e2d2",
       "version_major": 2,
       "version_minor": 0
      },
      "text/plain": [
       "VBox(children=(Label(value='0.002 MB of 0.002 MB uploaded (0.000 MB deduped)\\r'), FloatProgress(value=1.0, max…"
      ]
     },
     "metadata": {},
     "output_type": "display_data"
    },
    {
     "data": {
      "text/html": [
       " View run <strong style=\"color:#cdcd00\">dainty-surf-3</strong> at: <a href='https://wandb.ai/anindyadeep-s/Adapters/runs/laekzqp9' target=\"_blank\">https://wandb.ai/anindyadeep-s/Adapters/runs/laekzqp9</a><br/>Synced 6 W&B file(s), 0 media file(s), 0 artifact file(s) and 0 other file(s)"
      ],
      "text/plain": [
       "<IPython.core.display.HTML object>"
      ]
     },
     "metadata": {},
     "output_type": "display_data"
    },
    {
     "data": {
      "text/html": [
       "Find logs at: <code>./wandb/run-20230927_092452-laekzqp9/logs</code>"
      ],
      "text/plain": [
       "<IPython.core.display.HTML object>"
      ]
     },
     "metadata": {},
     "output_type": "display_data"
    },
    {
     "data": {
      "text/html": [
       "Successfully finished last run (ID:laekzqp9). Initializing new run:<br/>"
      ],
      "text/plain": [
       "<IPython.core.display.HTML object>"
      ]
     },
     "metadata": {},
     "output_type": "display_data"
    },
    {
     "data": {
      "application/vnd.jupyter.widget-view+json": {
       "model_id": "d4e2175f017c4d0ab8ee1463fed36e36",
       "version_major": 2,
       "version_minor": 0
      },
      "text/plain": [
       "VBox(children=(Label(value='Waiting for wandb.init()...\\r'), FloatProgress(value=0.016668293450008302, max=1.0…"
      ]
     },
     "metadata": {},
     "output_type": "display_data"
    },
    {
     "data": {
      "text/html": [
       "wandb version 0.15.11 is available!  To upgrade, please run:\n",
       " $ pip install wandb --upgrade"
      ],
      "text/plain": [
       "<IPython.core.display.HTML object>"
      ]
     },
     "metadata": {},
     "output_type": "display_data"
    },
    {
     "data": {
      "text/html": [
       "Tracking run with wandb version 0.15.5"
      ],
      "text/plain": [
       "<IPython.core.display.HTML object>"
      ]
     },
     "metadata": {},
     "output_type": "display_data"
    },
    {
     "data": {
      "text/html": [
       "Run data is saved locally in <code>/home/ec2-user/anindya/Experiments/Adapters/wandb/run-20230927_093416-ovi02wxv</code>"
      ],
      "text/plain": [
       "<IPython.core.display.HTML object>"
      ]
     },
     "metadata": {},
     "output_type": "display_data"
    },
    {
     "data": {
      "text/html": [
       "Syncing run <strong><a href='https://wandb.ai/anindyadeep-s/Adapters/runs/ovi02wxv' target=\"_blank\">snowy-sunset-4</a></strong> to <a href='https://wandb.ai/anindyadeep-s/Adapters' target=\"_blank\">Weights & Biases</a> (<a href='https://wandb.me/run' target=\"_blank\">docs</a>)<br/>"
      ],
      "text/plain": [
       "<IPython.core.display.HTML object>"
      ]
     },
     "metadata": {},
     "output_type": "display_data"
    },
    {
     "data": {
      "text/html": [
       " View project at <a href='https://wandb.ai/anindyadeep-s/Adapters' target=\"_blank\">https://wandb.ai/anindyadeep-s/Adapters</a>"
      ],
      "text/plain": [
       "<IPython.core.display.HTML object>"
      ]
     },
     "metadata": {},
     "output_type": "display_data"
    },
    {
     "data": {
      "text/html": [
       " View run at <a href='https://wandb.ai/anindyadeep-s/Adapters/runs/ovi02wxv' target=\"_blank\">https://wandb.ai/anindyadeep-s/Adapters/runs/ovi02wxv</a>"
      ],
      "text/plain": [
       "<IPython.core.display.HTML object>"
      ]
     },
     "metadata": {},
     "output_type": "display_data"
    },
    {
     "data": {
      "application/vnd.jupyter.widget-view+json": {
       "model_id": "a954345f364d43408749d0882aa8f7ad",
       "version_major": 2,
       "version_minor": 0
      },
      "text/plain": [
       "Loading checkpoint shards:   0%|          | 0/2 [00:00<?, ?it/s]"
      ]
     },
     "metadata": {},
     "output_type": "display_data"
    },
    {
     "name": "stderr",
     "output_type": "stream",
     "text": [
      "2023-09-27 09:36:33,845 [INFO]: => Instantiated the base model\n",
      "2023-09-27 09:36:39,969 [INFO]: => Peft model from path: checkpoints/pre_finetuning_lora/checkpoint-1840 loaded successfully\n",
      "2023-09-27 09:37:31,039 [INFO]: => Peft model from path: checkpoints/finetuning_lora/checkpoint-690 loaded successfully\n",
      "2023-09-27 09:37:31,237 [INFO]: [INFERENCE]: Model tiiuae/falcon-7b is loaded successfully with all the adapters\n"
     ]
    }
   ],
   "source": [
    "## Experiment 3:\n",
    "### We will load both the types of adapter here and see the result with and without the external prompt\n",
    "\n",
    "from duel_adapters import logger\n",
    "\n",
    "dataset = FalconDataset(config = FineTuningDatasetConfig())\n",
    "test_dataset = dataset.export_hf_dataset(split='test')\n",
    "sample_test_texts, sample_test_labels = test_dataset['text'][:3], test_dataset['label'][:3]\n",
    "\n",
    "inference_config = DuelAdapterInferenceConfig(\n",
    "    max_new_tokens=15,\n",
    "    base_model='tiiuae/falcon-7b',\n",
    "    adapter_weights_paths=[\n",
    "        \"checkpoints/pre_finetuning_lora/checkpoint-1840\",\n",
    "        \"checkpoints/finetuning_lora/checkpoint-690\"\n",
    "    ]\n",
    ")\n",
    "\n",
    "quick_run = Inference(config=inference_config)"
   ]
  },
  {
   "cell_type": "code",
   "execution_count": 12,
   "metadata": {},
   "outputs": [
    {
     "name": "stderr",
     "output_type": "stream",
     "text": [
      "2023-09-27 09:39:10,251 [INFO]: [EXPERIMENT] Without using any more external prompts\n",
      "2023-09-27 09:39:34,073 [INFO]: => Finished testing\n"
     ]
    },
    {
     "name": "stdout",
     "output_type": "stream",
     "text": [
      "Generated text:  \n",
      "XXXX XXXX XXXX XXXX XXXX XXXX XXXX XXX\n",
      "Actual text:  Bureau discrepancy\n",
      "\n",
      "Generated text:  \n",
      "Actual text:  Improper Bureau Reporting\n",
      "\n",
      "Generated text:  \n",
      "Actual text:  Improper Bureau Reporting\n",
      "\n"
     ]
    }
   ],
   "source": [
    "## Now experimenting without any additional prompt and lets see how are the results\n",
    "\n",
    "logger.info(\"[EXPERIMENT] Without using any more external prompts\")\n",
    "quick_run.quick_test(\n",
    "    texts = sample_test_texts, \n",
    "    labels = sample_test_labels\n",
    ")"
   ]
  },
  {
   "cell_type": "code",
   "execution_count": 13,
   "metadata": {},
   "outputs": [
    {
     "name": "stderr",
     "output_type": "stream",
     "text": [
      "2023-09-27 09:40:13,442 [INFO]: => Finished testing\n"
     ]
    },
    {
     "name": "stdout",
     "output_type": "stream",
     "text": [
      "Generated text:  ### Improper Bureau Reporting : XXXX XXXX XXXX XXXX\n",
      "Actual text:  Bureau discrepancy\n",
      "\n",
      "Generated text:  \n",
      "Actual text:  Improper Bureau Reporting\n",
      "\n",
      "Generated text:  \n",
      "Actual text:  Improper Bureau Reporting\n",
      "\n"
     ]
    }
   ],
   "source": [
    "instruction_prompt = \"\"\"\n",
    "### Instruction:\n",
    "Below will be given some text which is a customer complaint and you are required to summarize/classify\n",
    "the complaint/text by choosing either of these given option\n",
    "\n",
    "1. Improper Bureau Reporting\n",
    "2. Bureau discrepancy\n",
    "\n",
    "You are not allowed to output any other text other than Improper Bureau Reporting or Bureau discrepancy\n",
    "\n",
    "Example: \n",
    "\n",
    "### Human: 'In accordance with the Fair Credit Reporting act XXXX, the following accounts have violated my rights \n",
    ": 1. XXXX ( XXXX ) Account # XXXX 2. Experian ( XXXX ) Account # XXXX 15 U.S.C 1681 section 602 A. States I\n",
    "have the right to privacy.\\n\\n15 U.S.C 1681 Section 604 A Section 2 : It also states a consumer reporting agency \n",
    "can not furnish a account without my written instructions\n",
    "\n",
    "### Assistant: Improper Bureau Reporting\n",
    "\n",
    "{prompt}\n",
    "\"\"\"\n",
    "\n",
    "quick_run.quick_test(\n",
    "    texts =  [instruction_prompt.format(prompt=prompt) for prompt in sample_test_texts], \n",
    "    labels = sample_test_labels\n",
    ")"
   ]
  },
  {
   "cell_type": "code",
   "execution_count": 14,
   "metadata": {},
   "outputs": [],
   "source": [
    "del quick_run"
   ]
  },
  {
   "cell_type": "code",
   "execution_count": 3,
   "metadata": {},
   "outputs": [
    {
     "name": "stderr",
     "output_type": "stream",
     "text": [
      "2023-09-27 14:44:06,884 [ERROR]: Failed to detect the name of this notebook, you can set it manually with the WANDB_NOTEBOOK_NAME environment variable to enable code saving.\n",
      "\u001b[34m\u001b[1mwandb\u001b[0m: Currently logged in as: \u001b[33manindyadeep-s\u001b[0m. Use \u001b[1m`wandb login --relogin`\u001b[0m to force relogin\n"
     ]
    },
    {
     "data": {
      "text/html": [
       "wandb version 0.15.11 is available!  To upgrade, please run:\n",
       " $ pip install wandb --upgrade"
      ],
      "text/plain": [
       "<IPython.core.display.HTML object>"
      ]
     },
     "metadata": {},
     "output_type": "display_data"
    },
    {
     "data": {
      "text/html": [
       "Tracking run with wandb version 0.15.5"
      ],
      "text/plain": [
       "<IPython.core.display.HTML object>"
      ]
     },
     "metadata": {},
     "output_type": "display_data"
    },
    {
     "data": {
      "text/html": [
       "Run data is saved locally in <code>/home/ec2-user/anindya/Experiments/Adapters/wandb/run-20230927_144408-ychpepns</code>"
      ],
      "text/plain": [
       "<IPython.core.display.HTML object>"
      ]
     },
     "metadata": {},
     "output_type": "display_data"
    },
    {
     "data": {
      "text/html": [
       "Syncing run <strong><a href='https://wandb.ai/anindyadeep-s/Adapters/runs/ychpepns' target=\"_blank\">absurd-sound-5</a></strong> to <a href='https://wandb.ai/anindyadeep-s/Adapters' target=\"_blank\">Weights & Biases</a> (<a href='https://wandb.me/run' target=\"_blank\">docs</a>)<br/>"
      ],
      "text/plain": [
       "<IPython.core.display.HTML object>"
      ]
     },
     "metadata": {},
     "output_type": "display_data"
    },
    {
     "data": {
      "text/html": [
       " View project at <a href='https://wandb.ai/anindyadeep-s/Adapters' target=\"_blank\">https://wandb.ai/anindyadeep-s/Adapters</a>"
      ],
      "text/plain": [
       "<IPython.core.display.HTML object>"
      ]
     },
     "metadata": {},
     "output_type": "display_data"
    },
    {
     "data": {
      "text/html": [
       " View run at <a href='https://wandb.ai/anindyadeep-s/Adapters/runs/ychpepns' target=\"_blank\">https://wandb.ai/anindyadeep-s/Adapters/runs/ychpepns</a>"
      ],
      "text/plain": [
       "<IPython.core.display.HTML object>"
      ]
     },
     "metadata": {},
     "output_type": "display_data"
    },
    {
     "data": {
      "application/vnd.jupyter.widget-view+json": {
       "model_id": "28950fea641e41ea8109bed8242b113d",
       "version_major": 2,
       "version_minor": 0
      },
      "text/plain": [
       "Loading checkpoint shards:   0%|          | 0/2 [00:00<?, ?it/s]"
      ]
     },
     "metadata": {},
     "output_type": "display_data"
    },
    {
     "name": "stderr",
     "output_type": "stream",
     "text": [
      "2023-09-27 14:46:24,402 [INFO]: => Instantiated the base model\n",
      "2023-09-27 14:47:22,614 [INFO]: => Peft model from path: checkpoints/full/checkpoint-690 loaded successfully\n",
      "2023-09-27 14:47:22,813 [INFO]: [INFERENCE]: Model tiiuae/falcon-7b is loaded successfully with all the adapters\n"
     ]
    }
   ],
   "source": [
    "## Experiment 4:\n",
    "### Here we will be loading single adapter which is trained with all the parts of adapter\n",
    "\n",
    "from duel_adapters import logger\n",
    "\n",
    "dataset = FalconDataset(config = FineTuningDatasetConfig())\n",
    "test_dataset = dataset.export_hf_dataset(split='test')\n",
    "sample_test_texts, sample_test_labels = test_dataset['text'][:3], test_dataset['label'][:3]\n",
    "\n",
    "inference_config = DuelAdapterInferenceConfig(\n",
    "    max_new_tokens=15,\n",
    "    base_model='tiiuae/falcon-7b',\n",
    "    adapter_weights_paths=[\n",
    "        \"checkpoints/full/checkpoint-690\"\n",
    "    ]\n",
    ")\n",
    "\n",
    "quick_run = Inference(config=inference_config)"
   ]
  },
  {
   "cell_type": "code",
   "execution_count": 4,
   "metadata": {},
   "outputs": [
    {
     "name": "stderr",
     "output_type": "stream",
     "text": [
      "2023-09-27 14:47:27,904 [INFO]: [EXPERIMENT] Without using any more external prompts\n",
      "2023-09-27 14:47:52,086 [INFO]: => Finished testing\n"
     ]
    },
    {
     "name": "stdout",
     "output_type": "stream",
     "text": [
      "Generated text:  \n",
      "I am writing to you to dispute the following items on my credit report\n",
      "Actual text:  Bureau discrepancy\n",
      "\n",
      "Generated text:  \n",
      "Actual text:  Improper Bureau Reporting\n",
      "\n",
      "Generated text:  \n",
      "Actual text:  Improper Bureau Reporting\n",
      "\n"
     ]
    }
   ],
   "source": [
    "logger.info(\"[EXPERIMENT] Without using any more external prompts\")\n",
    "quick_run.quick_test(\n",
    "    texts = sample_test_texts, \n",
    "    labels = sample_test_labels\n",
    ")"
   ]
  },
  {
   "cell_type": "code",
   "execution_count": 5,
   "metadata": {},
   "outputs": [
    {
     "name": "stderr",
     "output_type": "stream",
     "text": [
      "2023-09-27 14:48:32,973 [INFO]: => Finished testing\n"
     ]
    },
    {
     "name": "stdout",
     "output_type": "stream",
     "text": [
      "Generated text:  ### Assistant: Improper Bureau Reporting\n",
      "\n",
      "I am a victim of identity\n",
      "Actual text:  Bureau discrepancy\n",
      "\n",
      "Generated text:  \n",
      "Actual text:  Improper Bureau Reporting\n",
      "\n",
      "Generated text:  \n",
      "Actual text:  Improper Bureau Reporting\n",
      "\n"
     ]
    }
   ],
   "source": [
    "instruction_prompt = \"\"\"\n",
    "### Instruction:\n",
    "Below will be given some text which is a customer complaint and you are required to summarize/classify\n",
    "the complaint/text by choosing either of these given option\n",
    "\n",
    "1. Improper Bureau Reporting\n",
    "2. Bureau discrepancy\n",
    "\n",
    "You are not allowed to output any other text other than Improper Bureau Reporting or Bureau discrepancy\n",
    "\n",
    "Example: \n",
    "\n",
    "### Human: 'In accordance with the Fair Credit Reporting act XXXX, the following accounts have violated my rights \n",
    ": 1. XXXX ( XXXX ) Account # XXXX 2. Experian ( XXXX ) Account # XXXX 15 U.S.C 1681 section 602 A. States I\n",
    "have the right to privacy.\\n\\n15 U.S.C 1681 Section 604 A Section 2 : It also states a consumer reporting agency \n",
    "can not furnish a account without my written instructions\n",
    "\n",
    "### Assistant: Improper Bureau Reporting\n",
    "\n",
    "{prompt}\n",
    "\"\"\"\n",
    "\n",
    "quick_run.quick_test(\n",
    "    texts =  [instruction_prompt.format(prompt=prompt) for prompt in sample_test_texts], \n",
    "    labels = sample_test_labels\n",
    ")"
   ]
  }
 ],
 "metadata": {
  "kernelspec": {
   "display_name": "notebook",
   "language": "python",
   "name": "python3"
  },
  "language_info": {
   "codemirror_mode": {
    "name": "ipython",
    "version": 3
   },
   "file_extension": ".py",
   "mimetype": "text/x-python",
   "name": "python",
   "nbconvert_exporter": "python",
   "pygments_lexer": "ipython3",
   "version": "3.11.4"
  },
  "orig_nbformat": 4
 },
 "nbformat": 4,
 "nbformat_minor": 2
}
